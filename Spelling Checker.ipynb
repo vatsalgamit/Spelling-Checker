{
 "cells": [
  {
   "cell_type": "code",
   "execution_count": 2,
   "metadata": {},
   "outputs": [],
   "source": [
    "from textblob import TextBlob"
   ]
  },
  {
   "cell_type": "code",
   "execution_count": 42,
   "metadata": {},
   "outputs": [],
   "source": [
    "def SpellCheck(text):\n",
    "    zen = TextBlob(text)\n",
    "    words = zen.words\n",
    "    print(text)\n",
    "    #print(\"Words=>\",words)\n",
    "    corrected_list = []\n",
    "    for word in words:\n",
    "        corrected_list.append(TextBlob(word))\n",
    "    corrected_words = []\n",
    "    for word in corrected_list:\n",
    "        print(word.correct(),end=\" \")"
   ]
  },
  {
   "cell_type": "code",
   "execution_count": 43,
   "metadata": {},
   "outputs": [
    {
     "name": "stdout",
     "output_type": "stream",
     "text": [
      "Hello my name is vatsal\n",
      "Hello my name is vassal "
     ]
    }
   ],
   "source": [
    "SpellCheck(\"Hello my name is vatsal\")"
   ]
  }
 ],
 "metadata": {
  "kernelspec": {
   "display_name": "Python 3",
   "language": "python",
   "name": "python3"
  },
  "language_info": {
   "codemirror_mode": {
    "name": "ipython",
    "version": 3
   },
   "file_extension": ".py",
   "mimetype": "text/x-python",
   "name": "python",
   "nbconvert_exporter": "python",
   "pygments_lexer": "ipython3",
   "version": "3.7.6"
  }
 },
 "nbformat": 4,
 "nbformat_minor": 4
}
